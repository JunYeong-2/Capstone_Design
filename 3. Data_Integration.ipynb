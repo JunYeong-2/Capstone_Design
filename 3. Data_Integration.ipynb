{
  "cells": [
    {
      "cell_type": "markdown",
      "metadata": {
        "id": "view-in-github",
        "colab_type": "text"
      },
      "source": [
        "<a href=\"https://colab.research.google.com/github/Gayeon6423/BusinessAI-Capston/blob/main/3_Data_Integration.ipynb\" target=\"_parent\"><img src=\"https://colab.research.google.com/assets/colab-badge.svg\" alt=\"Open In Colab\"/></a>"
      ]
    },
    {
      "cell_type": "code",
      "execution_count": null,
      "metadata": {
        "colab": {
          "base_uri": "https://localhost:8080/"
        },
        "id": "v4W6DvBZhLzf",
        "outputId": "d06c8b65-7c38-46e6-b9ab-a3f7cfbdf21c"
      },
      "outputs": [
        {
          "output_type": "stream",
          "name": "stdout",
          "text": [
            "Mounted at /content/drive\n"
          ]
        }
      ],
      "source": [
        "# 드라이브 마운트\n",
        "from google.colab import drive\n",
        "drive.mount('/content/drive')\n",
        "import pandas as pd\n",
        "import numpy as np\n",
        "from sklearn.preprocessing import MinMaxScaler\n",
        "from sklearn.model_selection import train_test_split\n",
        "from keras.models import Sequential\n",
        "from keras.layers import LSTM, Dense\n",
        "import pandas as pd\n",
        "import torch\n",
        "import torch.nn as nn\n",
        "import torch.nn.functional as F\n",
        "import torch.optim as optim\n",
        "from torch.autograd import Variable\n",
        "\n",
        "from sklearn.preprocessing import MinMaxScaler, StandardScaler\n",
        "from sklearn.model_selection import train_test_split\n",
        "\n",
        "import matplotlib.pyplot as plt\n",
        "%matplotlib inline"
      ]
    },
    {
      "cell_type": "markdown",
      "metadata": {
        "id": "4idgwafMqpgI"
      },
      "source": [
        "# Data"
      ]
    },
    {
      "cell_type": "code",
      "source": [
        "kospi = pd.read_csv('/content/drive/MyDrive/산업 AI 캡스톤/DATA/Preprocessing_Data/Preprocessing_Neumeric_Data/neumeric_preprocess_kospi.csv')\n",
        "kosdaq = pd.read_csv('/content/drive/MyDrive/산업 AI 캡스톤/DATA/Preprocessing_Data/Preprocessing_Neumeric_Data/neumeric_preprocess_kosdaq.csv')\n",
        "\n",
        "kospi_research = pd.read_csv('/content/drive/MyDrive/산업 AI 캡스톤/DATA/Stock Index Data/kospi_research.csv')\n",
        "kosdaq_research = pd.read_csv('/content/drive/MyDrive/산업 AI 캡스톤/DATA/Stock Index Data/kosdaq_research.csv')\n",
        "\n",
        "Sentiment_Kospi_KOFINBERT = pd.read_csv('/content/drive/MyDrive/산업 AI 캡스톤/DATA/Sentiment_Score_Data/Sentiment_Score_all_ZSCORE_Kospi_KOFINBERT.csv')\n",
        "Sentiment_Kospi_KLUEBERT = pd.read_csv('/content/drive/MyDrive/산업 AI 캡스톤/DATA/Sentiment_Score_Data/Sentiment_Score_all_ZSCORE_Kospi_KLUEBERT.csv')\n",
        "Sentiment_Kosdaq_KOFINBERT = pd.read_csv('/content/drive/MyDrive/산업 AI 캡스톤/DATA/Sentiment_Score_Data/Sentiment_Score_all_ZSCORE_Kosdaq_KOFINBERT.csv')\n",
        "Sentiment_Kosdaq_KLUEBERT = pd.read_csv('/content/drive/MyDrive/산업 AI 캡스톤/DATA/Sentiment_Score_Data/Sentiment_Score_all_ZSCORE_Kosdaq_KLUEBERT.csv')"
      ],
      "metadata": {
        "id": "KeXxWI1NzGNS"
      },
      "execution_count": null,
      "outputs": []
    },
    {
      "cell_type": "code",
      "source": [
        "Sentiment_Kospi_KOFINBERT = Sentiment_Kospi_KOFINBERT.drop(columns = ['kofinbert_score_preprocess_context_kospi','kofinbert_score_title_plus_preprocess_content_kospi'])\n",
        "Sentiment_Kospi_KLUEBERT = Sentiment_Kospi_KLUEBERT.drop(columns = ['klue_bert_score_preprocess_context','klue_bert_score_title_plus_preprocess_context','klue_bert_score_title_plus_summarize_content'])\n",
        "Sentiment_Kosdaq_KOFINBERT = Sentiment_Kosdaq_KOFINBERT.drop(columns = ['kofinbert_score_preprocess_context_kosdaq','kofinbert_score_title_plus_preprocess_content_kosdaq'])\n",
        "Sentiment_Kosdaq_KLUEBERT = Sentiment_Kosdaq_KLUEBERT.drop(columns = ['klue_bert_score_preprocess_context','klue_bert_score_title_plus_preprocess_context','klue_bert_score_title_plus_summarize_content'])"
      ],
      "metadata": {
        "id": "RzAHVRLEUlkU"
      },
      "execution_count": null,
      "outputs": []
    },
    {
      "cell_type": "code",
      "source": [
        "# # 필요없는 칼럼 제거\n",
        "# kospi = kospi.drop(['dji_open','dji_high','dji_low','us500_open','us500_high','us500_low','ex_AM_open','ex_AM_high','ex_AM_low',\n",
        "#                     'ex_JP_open','ex_JP_high','ex_JP_low','gold_open','gold_high','gold_low','oil_open','oil_high','oil_low'],axis=1)\n",
        "# kosdaq = kosdaq.drop(['dji_open','dji_high','dji_low','us500_open','us500_high','us500_low','ex_AM_open','ex_AM_high','ex_AM_low',\n",
        "#                     'ex_JP_open','ex_JP_high','ex_JP_low','gold_open','gold_high','gold_low','oil_open','oil_high','oil_low'],axis=1)"
      ],
      "metadata": {
        "id": "kfaK68h4J5pf"
      },
      "execution_count": null,
      "outputs": []
    },
    {
      "cell_type": "code",
      "source": [
        "# Date 칼럼 전처리\n",
        "Sentiment_Kospi_KLUEBERT['prediction'] = pd.to_datetime(Sentiment_Kospi_KLUEBERT['prediction'], format='%Y-%m-%d')\n",
        "Sentiment_Kospi_KLUEBERT['prediction'] = Sentiment_Kospi_KLUEBERT['prediction'].dt.strftime('%Y%m%d')\n",
        "Sentiment_Kospi_KLUEBERT = Sentiment_Kospi_KLUEBERT.rename(columns = {'prediction':'Date'})\n",
        "Sentiment_Kospi_KLUEBERT['Date'] = Sentiment_Kospi_KLUEBERT['Date'].astype('int64')\n",
        "\n",
        "Sentiment_Kosdaq_KLUEBERT['prediction'] = pd.to_datetime(Sentiment_Kosdaq_KLUEBERT['prediction'], format='%Y-%m-%d')\n",
        "Sentiment_Kosdaq_KLUEBERT['prediction'] = Sentiment_Kosdaq_KLUEBERT['prediction'].dt.strftime('%Y%m%d')\n",
        "Sentiment_Kosdaq_KLUEBERT = Sentiment_Kosdaq_KLUEBERT.rename(columns = {'prediction':'Date'})\n",
        "Sentiment_Kosdaq_KLUEBERT['Date'] = Sentiment_Kosdaq_KLUEBERT['Date'].astype('int64')\n",
        "\n",
        "# 중복행 제거\n",
        "Sentiment_Kospi_KOFINBERT = Sentiment_Kospi_KOFINBERT.drop_duplicates(subset = ['Date'])\n",
        "Sentiment_Kosdaq_KOFINBERT = Sentiment_Kosdaq_KOFINBERT.drop_duplicates(subset = ['Date'])"
      ],
      "metadata": {
        "id": "A7fe5nY3Mvzx"
      },
      "execution_count": null,
      "outputs": []
    },
    {
      "cell_type": "code",
      "source": [
        "# MinMax Scalaer 적용\n",
        "scaler = MinMaxScaler()\n",
        "kospi_research[['research_kospi']] = scaler.fit_transform(kospi_research[['research_kospi']])\n",
        "kosdaq_research[['research_kosdaq']] = scaler.fit_transform(kosdaq_research[['research_kosdaq']])"
      ],
      "metadata": {
        "id": "8YDkiF1Nz3U2"
      },
      "execution_count": null,
      "outputs": []
    },
    {
      "cell_type": "code",
      "source": [
        "# 주가 데이터 및 감정 스코어 병합(주가 데이터의 날짜 기준)\n",
        "kospi_all_kofinbert = pd.merge(kospi, Sentiment_Kospi_KOFINBERT, on = 'Date', how = 'left')\n",
        "kospi_all_kluebert = pd.merge(kospi, Sentiment_Kospi_KLUEBERT, on = 'Date', how = 'left')\n",
        "kosdaq_all_kofinbert = pd.merge(kospi, Sentiment_Kosdaq_KOFINBERT, on = 'Date', how = 'left')\n",
        "kosdaq_all_kluebert = pd.merge(kospi, Sentiment_Kosdaq_KLUEBERT, on = 'Date', how = 'left')\n",
        "\n",
        "# 감정 데이터 병합\n",
        "kospi_sen = pd.concat([kospi_all_kofinbert, kospi_all_kluebert.iloc[:,37:39]], axis=1)\n",
        "kosdaq_sen = pd.concat([kosdaq_all_kofinbert, kosdaq_all_kluebert.iloc[:,37:39]], axis=1)"
      ],
      "metadata": {
        "id": "GnOonbd3XRfj"
      },
      "execution_count": null,
      "outputs": []
    },
    {
      "cell_type": "code",
      "execution_count": null,
      "metadata": {
        "id": "lCKiSNloqVoS"
      },
      "outputs": [],
      "source": [
        "# research 데이터 병합\n",
        "kospi_sen_all = pd.merge(kospi_sen, kospi_research, on = 'Date', how = 'left')\n",
        "col = kospi_sen_all['research_kospi']\n",
        "kospi_sen_all = kospi_sen_all.drop(columns = 'research_kospi')\n",
        "kospi_sen_all.insert(1,'research_kospi', col)\n",
        "\n",
        "kosdaq_sen_all = pd.merge(kosdaq_sen, kosdaq_research, on = 'Date', how = 'left')\n",
        "col = kosdaq_sen_all['research_kosdaq']\n",
        "kosdaq_sen_all = kosdaq_sen_all.drop(columns = 'research_kosdaq')\n",
        "kosdaq_sen_all.insert(1,'research_kosdaq', col)\n",
        "\n",
        "# 소수점 3자리 수\n",
        "kospi_sen_all = kospi_sen_all.round(3)\n",
        "kosdaq_sen_all = kosdaq_sen_all.round(3)"
      ]
    },
    {
      "cell_type": "code",
      "source": [
        "kospi_sen_all = kospi_sen_all.dropna()\n",
        "kosdaq_sen_all = kosdaq_sen_all.dropna()"
      ],
      "metadata": {
        "id": "uaTekKPLtx1c"
      },
      "execution_count": null,
      "outputs": []
    },
    {
      "cell_type": "code",
      "source": [
        "# 데이터 저장\n",
        "kospi_sen_all.to_csv('/content/drive/MyDrive/산업 AI 캡스톤/DATA/Total_Data/kospi_sen_all.csv', encoding='utf=-8-sig', index=False)\n",
        "kosdaq_sen_all.to_csv('/content/drive/MyDrive/산업 AI 캡스톤/DATA/Total_Data/kosdaq_sen_all.csv', encoding='utf=-8-sig', index=False)"
      ],
      "metadata": {
        "id": "PVtvDU02xdSL"
      },
      "execution_count": null,
      "outputs": []
    },
    {
      "cell_type": "markdown",
      "source": [
        "# Kospi data 하루씩 늦게 반영하기"
      ],
      "metadata": {
        "id": "CCTMe5o94qjV"
      }
    },
    {
      "cell_type": "code",
      "source": [
        "# 데이터 불러오기\n",
        "kospi_df = pd.read_csv('/content/drive/MyDrive/산업 AI 캡스톤/DATA/Total_Data/kospi_sen_all.csv')"
      ],
      "metadata": {
        "id": "6WDygQ6e5w-W"
      },
      "execution_count": null,
      "outputs": []
    },
    {
      "cell_type": "code",
      "source": [
        "# Kospi_close 변수 제외한 Kospi 문자열이 포함된 데이터 하루씩 뒤로 밀기\n",
        "def shift_lows(column):\n",
        "  kospi_df[column] = kospi_df[column].shift(1)\n",
        "\n",
        "col = [i for i in kospi_df.columns if \"Kospi\" in i and i != 'Kospi_close']\n",
        "for i in col:\n",
        "  shift_lows(i)"
      ],
      "metadata": {
        "id": "L60Gjlg-52-R"
      },
      "execution_count": null,
      "outputs": []
    },
    {
      "cell_type": "code",
      "source": [
        "# 새로운 데이터셋으로 저장\n",
        "df = kospi_df.dropna().reset_index(drop=True)\n",
        "df.to_csv(\"/content/drive/MyDrive/산업 AI 캡스톤/DATA/Total_Data/shift_kospi_sen_all.csv\", index=False)"
      ],
      "metadata": {
        "id": "lUJ4swtO6CuJ"
      },
      "execution_count": null,
      "outputs": []
    }
  ],
  "metadata": {
    "colab": {
      "provenance": [],
      "include_colab_link": true
    },
    "kernelspec": {
      "display_name": "Python 3 (ipykernel)",
      "language": "python",
      "name": "python3"
    },
    "language_info": {
      "codemirror_mode": {
        "name": "ipython",
        "version": 3
      },
      "file_extension": ".py",
      "mimetype": "text/x-python",
      "name": "python",
      "nbconvert_exporter": "python",
      "pygments_lexer": "ipython3",
      "version": "3.9.12"
    },
    "varInspector": {
      "cols": {
        "lenName": 16,
        "lenType": 16,
        "lenVar": 40
      },
      "kernels_config": {
        "python": {
          "delete_cmd_postfix": "",
          "delete_cmd_prefix": "del ",
          "library": "var_list.py",
          "varRefreshCmd": "print(var_dic_list())"
        },
        "r": {
          "delete_cmd_postfix": ") ",
          "delete_cmd_prefix": "rm(",
          "library": "var_list.r",
          "varRefreshCmd": "cat(var_dic_list()) "
        }
      },
      "types_to_exclude": [
        "module",
        "function",
        "builtin_function_or_method",
        "instance",
        "_Feature"
      ],
      "window_display": false
    }
  },
  "nbformat": 4,
  "nbformat_minor": 0
}